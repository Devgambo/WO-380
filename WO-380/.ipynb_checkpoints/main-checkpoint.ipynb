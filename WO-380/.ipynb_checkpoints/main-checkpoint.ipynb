{
 "cells": [
  {
   "cell_type": "code",
   "execution_count": null,
   "id": "7c59f7a8",
   "metadata": {},
   "outputs": [
    {
     "ename": "",
     "evalue": "",
     "output_type": "error",
     "traceback": [
      "\u001b[1;31mFailed to connect to the remote Jupyter Server 'http://127.0.0.1:8888/'. Verify the server is running and reachable. (Failed to connect to the remote Jupyter Server 'http://127.0.0.1:8888/'. Verify the server is running and reachable. (Forbidden).)."
     ]
    }
   ],
   "source": [
    "from dotenv import load_dotenv\n",
    "from pdf_to_image import pdf_to_image\n",
    "from gemini_vision import analyse_image\n",
    "from prompt import prompt1\n",
    "import os\n",
    "from datetime import datetime\n",
    "load_dotenv()"
   ]
  },
  {
   "cell_type": "code",
   "execution_count": null,
   "id": "1461d010",
   "metadata": {},
   "outputs": [],
   "source": [
    "# Step 1: Convert PDF page to image\n",
    "pdf_path = \"sample_pdfs/1.pdf\"  # Change file name here\n",
    "image_path = \"convertedimages/1.jpg\"  # Use JPG for ConvertAPI"
   ]
  },
  {
   "cell_type": "code",
   "execution_count": null,
   "id": "3b1eccc1",
   "metadata": {},
   "outputs": [],
   "source": [
    "try:\n",
    "    if not os.path.exists(pdf_path):\n",
    "        raise FileNotFoundError(f\"PDF file not found: {pdf_path}\")\n",
    "    image_path = pdf_to_image(pdf_path, image_path, page_number=1, zoom=2)\n",
    "    print(f\"✅ PDF converted to image: {image_path}\")\n",
    "except Exception as e:\n",
    "    print(f\"❌ Error converting PDF to image: {e}\")\n",
    "    exit(1)"
   ]
  },
  {
   "cell_type": "code",
   "execution_count": null,
   "id": "7cfe3dc1",
   "metadata": {},
   "outputs": [],
   "source": [
    "# Step 2: Check if API key is available\n",
    "if not os.getenv(\"GEMINI_API_KEY\"):\n",
    "    print(\"\\n⚠️ GEMINI_API_KEY not found in environment variables.\")\n",
    "    print(\"To use Gemini Vision AI analysis, please:\")\n",
    "    print(\"1. Get a Gemini API key from https://makersuite.google.com/app/apikey\")\n",
    "    print(\"2. Create a .env file with: GEMINI_API_KEY=your_api_key_here\")\n",
    "    print(\"3. Or set the environment variable: export GEMINI_API_KEY=your_api_key_here\")\n",
    "    print(f\"\\n📄 Image file created successfully: {image_path}\")\n",
    "    print(\"You can manually view this image to see the PDF content.\")\n",
    "    exit(1)"
   ]
  },
  {
   "cell_type": "code",
   "execution_count": null,
   "id": "b74e5637",
   "metadata": {},
   "outputs": [],
   "source": [
    "# Step 3: Analyse with Gemini Vision\n",
    "try:\n",
    "    result = analyse_image(image_path, prompt1)\n",
    "    print(\"\\n📄 Gemini Vision Response:\\n\", result)\n",
    "    \n",
    "    # Step 4: Save extracted data to markdown file\n",
    "    timestamp = datetime.now().strftime(\"%Y%m%d_%H%M%S\")\n",
    "    md_filename = f\"extracted_data_{timestamp}.md\"\n",
    "    \n",
    "    with open(md_filename, 'w', encoding='utf-8') as md_file:\n",
    "        md_file.write(f\"# Data Extraction Report\\n\\n\")\n",
    "        md_file.write(f\"**Source PDF:** {pdf_path}\\n\")\n",
    "        md_file.write(f\"**Extraction Date:** {datetime.now().strftime('%Y-%m-%d %H:%M:%S')}\\n\")\n",
    "        md_file.write(f\"**Generated Image:** {image_path}\\n\\n\")\n",
    "        md_file.write(\"---\\n\\n\")\n",
    "        md_file.write(result)\n",
    "    \n",
    "    print(f\"\\n💾 Extracted data saved to: {md_filename}\")\n",
    "    \n",
    "except Exception as e:\n",
    "    print(f\"\\n❌ Error calling Gemini API: {e}\")\n",
    "    print(f\"📄 Image file created successfully: {image_path}\")"
   ]
  },
  {
   "cell_type": "code",
   "execution_count": null,
   "id": "fb065a85",
   "metadata": {},
   "outputs": [],
   "source": []
  }
 ],
 "metadata": {
  "kernelspec": {
   "display_name": "Python 3 (ipykernel)",
   "language": "python",
   "name": "python3"
  }
 },
 "nbformat": 4,
 "nbformat_minor": 5
}
